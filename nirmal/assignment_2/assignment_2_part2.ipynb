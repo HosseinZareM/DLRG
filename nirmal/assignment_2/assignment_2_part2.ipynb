{
 "cells": [
  {
   "cell_type": "code",
   "execution_count": null,
   "metadata": {},
   "outputs": [],
   "source": []
  }
 ],
 "metadata": {
  "kernelspec": {
   "display_name": "Python 3",
   "language": "python",
   "name": "python3"
  },
  "language_info": {
   "name": "python",
   "version": "3.9.13"
  },
  "orig_nbformat": 4,
  "vscode": {
   "interpreter": {
    "hash": "b554fac8c6248e4971bcb8ce50859e1e5931fd48156f7a7dfcd6391865d67661"
   }
  }
 },
 "nbformat": 4,
 "nbformat_minor": 2
}
